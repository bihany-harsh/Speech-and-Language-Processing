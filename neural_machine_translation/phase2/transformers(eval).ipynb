{
  "cells": [
    {
      "cell_type": "code",
      "execution_count": null,
      "metadata": {
        "colab": {
          "base_uri": "https://localhost:8080/"
        },
        "id": "Ko9VXsPzalce",
        "outputId": "b27d40d0-aa62-448f-94e2-a0163d2ee884"
      },
      "outputs": [
        {
          "name": "stdout",
          "output_type": "stream",
          "text": [
            "Collecting sentencepiece\n",
            "  Downloading sentencepiece-0.1.99-cp310-cp310-manylinux_2_17_x86_64.manylinux2014_x86_64.whl (1.3 MB)\n",
            "\u001b[2K     \u001b[90m━━━━━━━━━━━━━━━━━━━━━━━━━━━━━━━━━━━━━━━━\u001b[0m \u001b[32m1.3/1.3 MB\u001b[0m \u001b[31m15.3 MB/s\u001b[0m eta \u001b[36m0:00:00\u001b[0m\n",
            "\u001b[?25hInstalling collected packages: sentencepiece\n",
            "Successfully installed sentencepiece-0.1.99\n",
            "Mounted at /content/drive\n",
            "cuda\n"
          ]
        }
      ],
      "source": [
        "!pip install sentencepiece\n",
        "%load_ext autoreload\n",
        "%autoreload 2\n",
        "from google.colab import drive\n",
        "drive.mount(\"/content/drive\")\n",
        "import sys\n",
        "sys.path.append(\"/content/drive/MyDrive/neural_machine_translation/iter5B/code\")\n",
        "import torch\n",
        "import torch.nn as nn\n",
        "from torch.utils.data import Dataset, DataLoader\n",
        "\n",
        "device = torch.device(\"cpu\")\n",
        "if torch.cuda.is_available():\n",
        "    device = torch.device(\"cuda\")\n",
        "elif torch.backends.mps.is_available():\n",
        "    device = torch.device(\"mps\")\n",
        "\n",
        "print(device)"
      ]
    },
    {
      "cell_type": "markdown",
      "metadata": {
        "id": "HWzCsXj9bG8b"
      },
      "source": [
        "## LANGUAGE"
      ]
    },
    {
      "cell_type": "code",
      "execution_count": null,
      "metadata": {
        "id": "ZebMDIvwaw2e"
      },
      "outputs": [],
      "source": [
        "import sentencepiece as spm\n",
        "\n",
        "class Language:\n",
        "    def __init__(self, path_to_spm_model, lang):\n",
        "        self.spm_model = spm.SentencePieceProcessor(model_file=path_to_spm_model)\n",
        "        self.word2idx = self.build_word2idx()\n",
        "        self.idx2word = self.build_idx2word()\n",
        "        self.n_words = self.spm_model.get_piece_size()\n",
        "        self.lang = lang\n",
        "        self.bos_id = self.spm_model.bos_id()\n",
        "        self.eos_id = self.spm_model.eos_id()\n",
        "        self.pad_id = self.spm_model.pad_id()\n",
        "        self.unk_id = self.spm_model.unk_id()\n",
        "\n",
        "    def build_word2idx(self):\n",
        "        word2idx = {}\n",
        "        for i in range(self.spm_model.get_piece_size()):\n",
        "            word2idx[self.spm_model.id_to_piece(i)] = i\n",
        "        return word2idx\n",
        "\n",
        "    def build_idx2word(self):\n",
        "        idx2word = {}\n",
        "        for i in range(self.spm_model.get_piece_size()):\n",
        "            idx2word[i] = self.spm_model.id_to_piece(i)\n",
        "        return idx2word\n",
        "\n",
        "    def tokenize(self, sentence):\n",
        "        return self.spm_model.Encode(sentence)\n",
        "\n",
        "    def detokenize(self, indices):\n",
        "        return self.spm_model.Decode(indices)\n",
        "\n",
        "    def prune_sentences(self, sentences, len):\n",
        "        # sentences: list of indexed sentences\n",
        "        pruned_sentences = []\n",
        "        for sent in sentences:\n",
        "            if len(sent) < len:\n",
        "                pruned_sentences.append(sent)\n",
        "            else:\n",
        "                pruned_sentences.append(sent[:len - 1])\n",
        "        return pruned_sentences\n",
        "\n",
        "    def normalize_sentences(self, sentences, len):\n",
        "        # sentences: list of indexed sentences\n",
        "        normalized_sentences = []\n",
        "        for sentence in sentences:\n",
        "            if len(sentence) < len:\n",
        "                n_sentence = sentence + [self.pad_id] * (len - len(sentence))\n",
        "            else:\n",
        "                n_sentence = sentence[:len - 1] + [self.eos_id]\n",
        "            normalized_sentences.append(n_sentence)\n",
        "        return normalized_sentences"
      ]
    },
    {
      "cell_type": "markdown",
      "metadata": {
        "id": "RHwDfkz1bMpT"
      },
      "source": [
        "## DATALOADERS"
      ]
    },
    {
      "cell_type": "code",
      "execution_count": null,
      "metadata": {
        "id": "HAbHvs26bKrQ"
      },
      "outputs": [],
      "source": [
        "import torch\n",
        "from torch.utils.data import Dataset, DataLoader\n",
        "import json\n",
        "from sklearn.model_selection import train_test_split\n",
        "import numpy as np\n",
        "\n",
        "def causal_mask(seq_len):\n",
        "    mask = torch.triu(torch.ones(1, seq_len, seq_len), diagonal=1).type(torch.int)\n",
        "    return mask == 0\n",
        "\n",
        "class BilingualDataset(Dataset):\n",
        "    def __init__(self, src_lang, tgt_lang, ds, seq_len=75):\n",
        "        super().__init__()\n",
        "        self.src_lang = src_lang\n",
        "        self.tgt_lang = tgt_lang\n",
        "        self.ds = ds\n",
        "        self.seq_len = seq_len\n",
        "\n",
        "        self.sos_token = torch.tensor([self.src_lang.bos_id], dtype=torch.int64)\n",
        "        self.eos_token = torch.tensor([self.src_lang.eos_id], dtype=torch.int64)\n",
        "        self.pad_token = torch.tensor([self.src_lang.pad_id], dtype=torch.int64)\n",
        "\n",
        "    def __len__(self):\n",
        "        return len(self.ds)\n",
        "\n",
        "    def __getitem__(self, idx):\n",
        "        src_tgt_pair = self.ds[idx]\n",
        "        src_text = src_tgt_pair[\"src\"]\n",
        "        tgt_text = src_tgt_pair[\"tgt\"]\n",
        "\n",
        "        src_indices = self.src_lang.tokenize(src_text)\n",
        "        tgt_indices = self.tgt_lang.tokenize(tgt_text)\n",
        "\n",
        "        enc_num_padding_tokens = self.seq_len - len(src_indices) - 2\n",
        "        dec_num_padding_tokens = self.seq_len - len(tgt_indices) - 1\n",
        "\n",
        "        encoder_input = torch.cat(\n",
        "            [\n",
        "                self.sos_token,\n",
        "                torch.tensor(src_indices, dtype=torch.int64),\n",
        "                self.eos_token,\n",
        "                torch.tensor([self.pad_token] * enc_num_padding_tokens, dtype=torch.int64)\n",
        "            ],\n",
        "            dim=0,\n",
        "        )\n",
        "        decoder_input = torch.cat(\n",
        "            [\n",
        "                self.sos_token,\n",
        "                torch.tensor(tgt_indices, dtype=torch.int64),\n",
        "                torch.tensor([self.pad_token] * dec_num_padding_tokens, dtype=torch.int64)\n",
        "            ],\n",
        "            dim=0,\n",
        "        )\n",
        "        label = torch.cat(\n",
        "            [\n",
        "                torch.tensor(tgt_indices, dtype=torch.int64),\n",
        "                self.eos_token,\n",
        "                torch.tensor([self.pad_token] * dec_num_padding_tokens, dtype=torch.int64)\n",
        "            ],\n",
        "            dim=0,\n",
        "        )\n",
        "        assert encoder_input.size(0) == self.seq_len\n",
        "        assert decoder_input.size(0) == self.seq_len\n",
        "        assert label.size(0) == self.seq_len\n",
        "\n",
        "        return {\n",
        "            \"encoder_input\": encoder_input,\n",
        "            \"decoder_input\": decoder_input,\n",
        "            \"encoder_mask\": (encoder_input != self.pad_token).unsqueeze(0).unsqueeze(0).int(),\n",
        "            \"decoder_mask\": (decoder_input != self.pad_token).unsqueeze(0).int() & causal_mask(decoder_input.size(0)),\n",
        "            \"label\": label,\n",
        "            \"src_text\": src_text,\n",
        "            \"tgt_text\": tgt_text\n",
        "        }\n",
        "\n",
        "def get_dataloader(path_to_raw_data, lang_pair, src_lang, tgt_lang, batch_size, train_val_split=0.1, seq_len=75):\n",
        "    with open(path_to_raw_data) as f:\n",
        "        raw_data = json.load(f)\n",
        "\n",
        "    DATA = [] # list of dicts of the form {\"src\": ..., \"tgt\": ...}\n",
        "\n",
        "    for lp, data in raw_data.items():\n",
        "        for _, items in data.items():\n",
        "            for _, pair in items.items():\n",
        "                if lp == lang_pair:\n",
        "                    src_sent = pair[\"source\"]\n",
        "                    tgt_sent = pair[\"target\"]\n",
        "                    DATA.append({\"src\": src_sent, \"tgt\": tgt_sent})\n",
        "\n",
        "#     src_lens = [len(src_lang.tokenize(pair[\"src\"])) for pair in DATA]\n",
        "#     tgt_lens = [len(tgt_lang.tokenize(pair[\"tgt\"])) for pair in DATA]\n",
        "\n",
        "#     src_max_len = int(np.quantile(src_lens, pruning_quantile))\n",
        "#     tgt_max_len = int(np.quantile(tgt_lens, pruning_quantile))\n",
        "\n",
        "#     seq_len = max(src_max_len, tgt_max_len)\n",
        "    DATA = [pair for pair in DATA if len(src_lang.tokenize(pair[\"src\"])) < seq_len - 2 and len(tgt_lang.tokenize(pair[\"tgt\"])) < seq_len - 2]\n",
        "\n",
        "    TRAIN_DATA, VAL_DATA = train_test_split(DATA, test_size=train_val_split, random_state=42)\n",
        "\n",
        "    train_ds = BilingualDataset(src_lang, tgt_lang, TRAIN_DATA, seq_len)\n",
        "    val_ds = BilingualDataset(src_lang, tgt_lang, VAL_DATA, seq_len)\n",
        "\n",
        "    train_dl = DataLoader(train_ds, batch_size=batch_size, shuffle=True)\n",
        "    val_dl = DataLoader(val_ds, batch_size=1, shuffle=True)\n",
        "\n",
        "    return train_dl, val_dl"
      ]
    },
    {
      "cell_type": "markdown",
      "metadata": {
        "id": "Ns_QlwQGbPpc"
      },
      "source": [
        "## MODEL ARCHITECTURE"
      ]
    },
    {
      "cell_type": "code",
      "execution_count": null,
      "metadata": {
        "id": "gtwrunPebODl"
      },
      "outputs": [],
      "source": [
        "import torch\n",
        "import torch.nn as nn\n",
        "import math\n",
        "\n",
        "class InputEmbeddings(nn.Module):\n",
        "    def __init__(self, d_model, vocab_size):\n",
        "        super().__init__()\n",
        "        self.embedding = nn.Embedding(vocab_size, d_model)\n",
        "        self.d_model = d_model\n",
        "        self.vocab_size = vocab_size\n",
        "    def forward(self, x):\n",
        "        return self.embedding(x) * math.sqrt(self.d_model)\n",
        "\n",
        "class PositionalEncoding(nn.Module):\n",
        "    def __init__(self, d_model, seq_len, dropout):\n",
        "        super().__init__()\n",
        "        self.d_model = d_model\n",
        "        self.seq_len = seq_len\n",
        "        self.dropout = nn.Dropout(dropout)\n",
        "\n",
        "        pe = torch.zeros(seq_len, d_model)\n",
        "        position = torch.arange(0, seq_len, dtype=torch.float).unsqueeze(1)\n",
        "        div_term = torch.exp(torch.arange(0, d_model, 2).float() * (-math.log(10000.0) / d_model))\n",
        "        pe[:, 0::2] = torch.sin(position * div_term)\n",
        "        pe[:, 1::2] = torch.cos(position * div_term)\n",
        "        pe = pe.unsqueeze(0)\n",
        "        self.register_buffer('pe', pe)\n",
        "\n",
        "    def forward(self, x):\n",
        "        x = x + (self.pe[:, :x.shape[1], :]).requires_grad_(False)\n",
        "        return self.dropout(x)\n",
        "\n",
        "class LayerNormalization(nn.Module):\n",
        "    def __init__(self, features: int, eps:float=10**-6) -> None:\n",
        "        super().__init__()\n",
        "        self.eps = eps\n",
        "        self.alpha = nn.Parameter(torch.ones(features))\n",
        "        self.bias = nn.Parameter(torch.zeros(features))\n",
        "\n",
        "    def forward(self, x):\n",
        "        x = x.float()\n",
        "        mean = x.mean(dim = -1, keepdim = True)\n",
        "        std = x.std(dim = -1, keepdim = True)\n",
        "        return self.alpha * (x - mean) / (std + self.eps) + self.bias\n",
        "\n",
        "class FeedForwardBlock(nn.Module):\n",
        "    def __init__(self, d_model, d_ff, dropout):\n",
        "        super().__init__()\n",
        "        self.linear_1 = nn.Linear(d_model, d_ff)\n",
        "        self.dropout = nn.Dropout(dropout)\n",
        "        self.linear_2 = nn.Linear(d_ff, d_model)\n",
        "\n",
        "    def forward(self, x):\n",
        "        return self.linear_2(self.dropout(torch.relu(self.linear_1(x))))\n",
        "\n",
        "class MultiHeadAttentionBlock(nn.Module):\n",
        "    def __init__(self, d_model, h, dropout):\n",
        "        super().__init__()\n",
        "        # h: number of heads\n",
        "        self.d_model = d_model\n",
        "        self.h = h\n",
        "        assert d_model % h == 0, \"d_model must be divisible by h\"\n",
        "        self.d_k = d_model // h\n",
        "        self.w_q = nn.Linear(d_model, d_model, bias=False)\n",
        "        self.w_k = nn.Linear(d_model, d_model, bias=False)\n",
        "        self.w_v = nn.Linear(d_model, d_model, bias=False)\n",
        "        self.w_o = nn.Linear(d_model, d_model, bias=False)\n",
        "        self.dropout = nn.Dropout(dropout)\n",
        "\n",
        "    @staticmethod\n",
        "    def attention(query, key, value, mask, dropout):\n",
        "        d_k = query.shape[-1]\n",
        "        attention_scores = (query @ key.transpose(-2, -1)) / math.sqrt(d_k)\n",
        "        if mask is not None:\n",
        "            attention_scores = attention_scores.masked_fill_(mask == 0, -1e9)\n",
        "        attention_scores = attention_scores.softmax(dim=-1)\n",
        "        if dropout is not None:\n",
        "            attention_scores = dropout(attention_scores)\n",
        "\n",
        "        return (attention_scores @ value), attention_scores\n",
        "\n",
        "    def forward(self, q, k, v, mask):\n",
        "        query = self.w_q(q)\n",
        "        key = self.w_k(k)\n",
        "        value = self.w_v(v)\n",
        "\n",
        "        query = query.view(query.shape[0], query.shape[1], self.h, self.d_k).transpose(1, 2)\n",
        "        key = key.view(key.shape[0], key.shape[1], self.h, self.d_k).transpose(1, 2)\n",
        "        value = value.view(value.shape[0], value.shape[1], self.h, self.d_k).transpose(1, 2)\n",
        "\n",
        "        x, self.attention_scores = MultiHeadAttentionBlock.attention(query, key, value, mask, self.dropout)\n",
        "        x = x.transpose(1, 2).contiguous().view(x.shape[0], -1, self.d_model)\n",
        "        return self.w_o(x)\n",
        "\n",
        "class ResidualConnection(nn.Module):\n",
        "    def __init__(self, features, dropout):\n",
        "        super().__init__()\n",
        "        self.dropout = nn.Dropout(dropout)\n",
        "        self.norm = LayerNormalization(features)\n",
        "\n",
        "    def forward(self, x, sublayer):\n",
        "        return x + self.dropout(sublayer(self.norm(x)))\n",
        "\n",
        "class EncoderBlock(nn.Module):\n",
        "    def __init__(self, features, self_attention_block, feed_forward_block, dropout):\n",
        "        super().__init__()\n",
        "        self.self_attention_block = self_attention_block\n",
        "        self.feed_forward_block = feed_forward_block\n",
        "        self.residual_connections = nn.ModuleList([ResidualConnection(features, dropout) for _ in range(2)])\n",
        "\n",
        "    def forward(self, x, src_mask):\n",
        "        x = self.residual_connections[0](x, lambda x: self.self_attention_block(x, x, x, src_mask))\n",
        "        x = self.residual_connections[1](x, self.feed_forward_block)\n",
        "        return x\n",
        "\n",
        "class Encoder(nn.Module):\n",
        "    def __init__(self, features, layers):\n",
        "        super().__init__()\n",
        "        self.layers = layers\n",
        "        self.norm = LayerNormalization(features)\n",
        "\n",
        "    def forward(self, x, mask):\n",
        "        for layer in self.layers:\n",
        "            x = layer(x, mask)\n",
        "        return self.norm(x)\n",
        "\n",
        "class DecoderBlock(nn.Module):\n",
        "    def __init__(self, features, self_attention_block, cross_attention_block, feed_forward_block, dropout):\n",
        "        super().__init__()\n",
        "        self.self_attention_block = self_attention_block\n",
        "        self.cross_attention_block = cross_attention_block\n",
        "        self.feed_forward_block = feed_forward_block\n",
        "        self.residual_connections = nn.ModuleList([ResidualConnection(features, dropout) for _ in range(3)])\n",
        "\n",
        "    def forward(self, x, encoder_output, src_mask, tgt_mask):\n",
        "        x = self.residual_connections[0](x, lambda x: self.self_attention_block(x, x, x, tgt_mask))\n",
        "        x = self.residual_connections[1](x, lambda x: self.cross_attention_block(x, encoder_output, encoder_output, src_mask))\n",
        "        x = self.residual_connections[2](x, self.feed_forward_block)\n",
        "        return x\n",
        "\n",
        "class Decoder(nn.Module):\n",
        "    def __init__(self, features, layers):\n",
        "        super().__init__()\n",
        "        self.layers = layers\n",
        "        self.norm = LayerNormalization(features)\n",
        "\n",
        "    def forward(self, x, encoder_output, src_mask, tgt_mask):\n",
        "        for layer in self.layers:\n",
        "            x = layer(x, encoder_output, src_mask, tgt_mask)\n",
        "        return self.norm(x)\n",
        "\n",
        "class ProjectionLayer(nn.Module):\n",
        "    def __init__(self, d_model, vocab_size):\n",
        "        super().__init__()\n",
        "        self.proj = nn.Linear(d_model, vocab_size)\n",
        "\n",
        "    def forward(self, x):\n",
        "        return torch.log_softmax(self.proj(x), dim=-1)\n",
        "\n",
        "class Transformer(nn.Module):\n",
        "    def __init__(self, encoder, decoder, src_embed, tgt_embed, src_pos, tgt_pos, projection_layer):\n",
        "        super().__init__()\n",
        "        self.encoder = encoder\n",
        "        self.decoder = decoder\n",
        "        self.src_embed = src_embed\n",
        "        self.tgt_embed = tgt_embed\n",
        "        self.src_pos = src_pos\n",
        "        self.tgt_pos = tgt_pos\n",
        "        self.projection_layer = projection_layer\n",
        "\n",
        "    def encode(self, src, src_mask):\n",
        "        src = self.src_embed(src)\n",
        "        src = self.src_pos(src)\n",
        "        return self.encoder(src, src_mask)\n",
        "\n",
        "    def decode(self, encoder_output, src_mask, tgt, tgt_mask):\n",
        "        tgt = self.tgt_embed(tgt)\n",
        "        tgt = self.tgt_pos(tgt)\n",
        "        return self.decoder(tgt, encoder_output, src_mask, tgt_mask)\n",
        "\n",
        "    def projection(self, x):\n",
        "        return self.projection_layer(x)\n",
        "\n",
        "\n",
        "\n",
        "def build_transformer(src_vocab_size, tgt_vocab_size, src_seq_len, tgt_seq_len, d_model = 512, N=6, h=8, dropout=0.1, d_ff=2048):\n",
        "    src_embed = InputEmbeddings(d_model, src_vocab_size)\n",
        "    tgt_embed = InputEmbeddings(d_model, tgt_vocab_size)\n",
        "\n",
        "    src_pos = PositionalEncoding(d_model, src_seq_len, dropout)\n",
        "    tgt_pos = PositionalEncoding(d_model, tgt_seq_len, dropout)\n",
        "\n",
        "    encoder_blocks = []\n",
        "    for _ in range(N):\n",
        "        encoder_self_attention_block = MultiHeadAttentionBlock(d_model, h, dropout)\n",
        "        feed_forward_block = FeedForwardBlock(d_model, d_ff, dropout)\n",
        "        encoder_block = EncoderBlock(d_model, encoder_self_attention_block, feed_forward_block, dropout)\n",
        "        encoder_blocks.append(encoder_block)\n",
        "\n",
        "    decoder_blocks = []\n",
        "    for _ in range(N):\n",
        "        decoder_self_attention_block = MultiHeadAttentionBlock(d_model, h, dropout)\n",
        "        decoder_cross_attention_block = MultiHeadAttentionBlock(d_model, h, dropout)\n",
        "        feed_forward_block = FeedForwardBlock(d_model, d_ff, dropout)\n",
        "        decoder_block = DecoderBlock(d_model, decoder_self_attention_block, decoder_cross_attention_block, feed_forward_block, dropout)\n",
        "        decoder_blocks.append(decoder_block)\n",
        "\n",
        "    encoder = Encoder(d_model, nn.ModuleList(encoder_blocks))\n",
        "    decoder = Decoder(d_model, nn.ModuleList(decoder_blocks))\n",
        "\n",
        "    projection_layer = ProjectionLayer(d_model, tgt_vocab_size)\n",
        "\n",
        "    transformer = Transformer(encoder, decoder, src_embed, tgt_embed, src_pos, tgt_pos, projection_layer)\n",
        "\n",
        "    for p in transformer.parameters():\n",
        "        if p.dim() > 1:\n",
        "            nn.init.xavier_uniform_(p)\n",
        "\n",
        "    return transformer"
      ]
    },
    {
      "cell_type": "markdown",
      "metadata": {
        "id": "c1QHeUrAbWgO"
      },
      "source": [
        "## TRANSLATION"
      ]
    },
    {
      "cell_type": "code",
      "execution_count": null,
      "metadata": {
        "id": "chgsAHUPbTAU"
      },
      "outputs": [],
      "source": [
        "from tqdm import tqdm\n",
        "\n",
        "def greedy_decode(model, source, source_mask, max_len, src_lang, tgt_lang, device):\n",
        "    sos_id = src_lang.bos_id\n",
        "    eos_id = src_lang.eos_id\n",
        "\n",
        "    encoder_output = model.encode(source, source_mask)\n",
        "    decoder_input = torch.empty(1, 1).fill_(sos_id).type_as(source).to(device)\n",
        "\n",
        "    while True:\n",
        "        if decoder_input.size(1) >= max_len:\n",
        "            break\n",
        "        decoder_mask = causal_mask(decoder_input.size(1)).type_as(source).to(device)\n",
        "        decoder_output = model.decode(encoder_output, source_mask, decoder_input, decoder_mask)\n",
        "        prob = model.projection(decoder_output[:, -1])\n",
        "        _, next_word = torch.max(prob, dim=1)\n",
        "        decoder_input = torch.cat(\n",
        "            [decoder_input, torch.empty(1, 1).type_as(source).fill_(next_word.item()).to(device)], dim=1\n",
        "        )\n",
        "        if next_word == eos_id:\n",
        "            break\n",
        "\n",
        "    return decoder_input.squeeze(0)\n",
        "\n",
        "def beam_search_decode(model, source, source_mask, max_len, src_lang, tgt_lang, device, beam_size=3):\n",
        "    sos_id = src_lang.bos_id\n",
        "    eos_id = src_lang.eos_id\n",
        "    encoder_output = model.encode(source, source_mask)\n",
        "\n",
        "    # Initialize the sequences with the start-of-sequence token\n",
        "    init_seq = torch.empty(1, 1).fill_(sos_id).type_as(source).to(device)\n",
        "    sequences = [(init_seq, 0)]  # each sequence in the form (seq, score)\n",
        "\n",
        "    for _ in range(max_len):\n",
        "        all_candidates = []\n",
        "\n",
        "        for seq, score in sequences:\n",
        "            if seq[0, -1] == eos_id:\n",
        "                all_candidates.append((seq, score))\n",
        "                continue\n",
        "\n",
        "            decoder_mask = causal_mask(seq.size(1)).type_as(source).to(device)\n",
        "            decoder_output = model.decode(encoder_output, source_mask, seq, decoder_mask)\n",
        "            prob = model.projection(decoder_output[:, -1])\n",
        "            log_prob, indices = torch.topk(prob, beam_size)\n",
        "\n",
        "            # Add top sequences and their scores\n",
        "            for k in range(beam_size):\n",
        "                next_word = indices[0][k]\n",
        "                new_seq = torch.cat([seq, torch.empty(1, 1).type_as(source).fill_(next_word.item()).to(device)], dim=1)\n",
        "                new_score = score + log_prob[0][k].item()\n",
        "                all_candidates.append((new_seq, new_score))\n",
        "\n",
        "        # Order all sequences by their scores and keep the top-k sequences\n",
        "        ordered = sorted(all_candidates, key=lambda tup: tup[1], reverse=True)\n",
        "        sequences = ordered[:beam_size]\n",
        "\n",
        "    return sequences[0][0].squeeze(0)  # Return the best sequence\n",
        "\n",
        "def evaluate(model, src_sents, src_lang, tgt_lang, max_len, device, print_interval=100, beam_size=3):\n",
        "    translated_sents = []\n",
        "    model.eval()\n",
        "    sos_token = torch.tensor([src_lang.bos_id], dtype=torch.int64)\n",
        "    eos_token = torch.tensor([src_lang.eos_id], dtype=torch.int64)\n",
        "    pad_token = torch.tensor([src_lang.pad_id], dtype=torch.int64)\n",
        "\n",
        "    src_sents_i = [src_lang.tokenize(sent) for sent in src_sents]\n",
        "    len_i = [len(sent_i) for sent_i in src_sents_i]\n",
        "\n",
        "    pruned_sents_i = []\n",
        "    for sent_i in src_sents_i:\n",
        "        if len(sent_i) > max_len - 2:\n",
        "            sent_i = sent_i[:max_len - 2]\n",
        "        pruned_sents_i.append(sent_i)\n",
        "\n",
        "    print(f\"Translating {len(src_sents)} sentences...\")\n",
        "\n",
        "    with torch.no_grad():\n",
        "        for i, src_sent_i in enumerate(tqdm(pruned_sents_i)):  # Wrap pruned_sents_i with tqdm\n",
        "            num_padding = max_len - len(src_sent_i) - 2\n",
        "            encoder_input = torch.cat(\n",
        "                [\n",
        "                    sos_token,\n",
        "                    torch.tensor(src_sent_i, dtype=torch.int64),\n",
        "                    eos_token,\n",
        "                    torch.tensor([pad_token] * num_padding, dtype=torch.int64)\n",
        "                ],\n",
        "                dim=0,\n",
        "            ).to(device)\n",
        "            encoder_mask = (encoder_input != pad_token.to(device)).unsqueeze(0).unsqueeze(0).int().to(device)\n",
        "            out = beam_search_decode(model, encoder_input, encoder_mask, max_len, src_lang, tgt_lang, device, beam_size)\n",
        "            decoded_text = tgt_lang.detokenize(out.tolist())\n",
        "            translated_sents.append(decoded_text)\n",
        "\n",
        "    return translated_sents"
      ]
    },
    {
      "cell_type": "code",
      "execution_count": null,
      "metadata": {
        "id": "dKHj25zDcBcq"
      },
      "outputs": [],
      "source": [
        "import json\n",
        "def test_data(path_to_file, lang_pair):\n",
        "    ids = []\n",
        "    sents = []\n",
        "\n",
        "    with open(path_to_file) as f:\n",
        "        raw_data = json.load(f)\n",
        "\n",
        "    for lp, data in raw_data.items():\n",
        "        for _, items in data.items():\n",
        "            for id, struct in items.items():\n",
        "                if lp == lang_pair:\n",
        "                    ids.append(int(id))\n",
        "                    sents.append(struct[\"source\"])\n",
        "\n",
        "    return sents, ids"
      ]
    },
    {
      "cell_type": "code",
      "execution_count": null,
      "metadata": {
        "id": "wZT0pa4gcH6e"
      },
      "outputs": [],
      "source": [
        "tgt_lang = Language(\"/content/drive/MyDrive/neural_machine_translation/iter5B/spm/en_spm.model\", lang=\"en\")"
      ]
    },
    {
      "cell_type": "code",
      "execution_count": null,
      "metadata": {
        "colab": {
          "base_uri": "https://localhost:8080/",
          "height": 36
        },
        "id": "4OdMC4mYcWeq",
        "outputId": "e57aa8e7-c888-4068-937e-b7de595aab17"
      },
      "outputs": [
        {
          "data": {
            "application/vnd.google.colaboratory.intrinsic+json": {
              "type": "string"
            },
            "text/plain": [
              "'▁cons'"
            ]
          },
          "execution_count": 8,
          "metadata": {},
          "output_type": "execute_result"
        }
      ],
      "source": [
        "tgt_lang.idx2word[457]"
      ]
    },
    {
      "cell_type": "code",
      "execution_count": null,
      "metadata": {
        "id": "-2vjlmJuchxE"
      },
      "outputs": [],
      "source": [
        "seq_len = 75"
      ]
    },
    {
      "cell_type": "code",
      "execution_count": null,
      "metadata": {
        "id": "qyLorJSucbDq"
      },
      "outputs": [],
      "source": [
        "path_to_file = \"/content/drive/MyDrive/neural_machine_translation/val_data2.json\"\n",
        "\n",
        "# HINDI\n",
        "src_sents, src_ids = test_data(path_to_file, \"English-Hindi\")\n",
        "src_lang = Language(\"/content/drive/MyDrive/neural_machine_translation/iter5B/spm/hi_spm.model\", lang=\"hi\")"
      ]
    },
    {
      "cell_type": "code",
      "execution_count": null,
      "metadata": {
        "colab": {
          "base_uri": "https://localhost:8080/"
        },
        "id": "9th2t97Oce-v",
        "outputId": "28f339fe-3e9c-48f6-e52b-09dab65bdd8b"
      },
      "outputs": [
        {
          "data": {
            "text/plain": [
              "<All keys matched successfully>"
            ]
          },
          "execution_count": 12,
          "metadata": {},
          "output_type": "execute_result"
        }
      ],
      "source": [
        "D_MODEL = 256\n",
        "NUM_LAYERS = 6\n",
        "NUM_HEADS = 8\n",
        "D_FF = 1024\n",
        "model = build_transformer(src_lang.n_words, tgt_lang.n_words, seq_len, seq_len, D_MODEL, NUM_LAYERS, NUM_HEADS, 0.1, D_FF).to(device)\n",
        "model.load_state_dict(torch.load(\"/content/drive/MyDrive/neural_machine_translation/iter7/hi_to_en_seq2seq_iter7.pt\"))"
      ]
    },
    {
      "cell_type": "code",
      "execution_count": null,
      "metadata": {
        "colab": {
          "base_uri": "https://localhost:8080/"
        },
        "id": "ik-nC4P5c0Y-",
        "outputId": "520733aa-21ae-4ed1-f604-03be593a7525"
      },
      "outputs": [
        {
          "name": "stdout",
          "output_type": "stream",
          "text": [
            "Translating 11542 sentences...\n"
          ]
        },
        {
          "name": "stderr",
          "output_type": "stream",
          "text": [
            "100%|██████████| 11542/11542 [2:02:24<00:00,  1.57it/s]\n"
          ]
        }
      ],
      "source": [
        "translated_sents = evaluate(model, src_sents, src_lang, tgt_lang, seq_len, device)"
      ]
    },
    {
      "cell_type": "code",
      "execution_count": null,
      "metadata": {
        "id": "K5LSgkMTc53v"
      },
      "outputs": [],
      "source": [
        "import pandas as pd\n",
        "df = pd.DataFrame({'ID': src_ids, 'Translation': translated_sents})\n",
        "\n",
        "csv_path = \"/content/drive/MyDrive/neural_machine_translation/iter7/hindi.csv\"\n",
        "df.to_csv(csv_path, index=False)"
      ]
    },
    {
      "cell_type": "code",
      "execution_count": null,
      "metadata": {
        "id": "UhDv7jlXdI6f"
      },
      "outputs": [],
      "source": [
        "# BENGALI\n",
        "src_sents, src_ids = test_data(path_to_file, \"English-Bengali\")\n",
        "src_lang = Language(\"/content/drive/MyDrive/neural_machine_translation/iter5B/spm/be_spm.model\", lang=\"be\")"
      ]
    },
    {
      "cell_type": "code",
      "execution_count": null,
      "metadata": {
        "colab": {
          "base_uri": "https://localhost:8080/"
        },
        "id": "zsLdb57FdSh6",
        "outputId": "d4de7b9b-3aa0-45b3-cbf4-d5bba24199f9"
      },
      "outputs": [
        {
          "data": {
            "text/plain": [
              "<All keys matched successfully>"
            ]
          },
          "execution_count": 16,
          "metadata": {},
          "output_type": "execute_result"
        }
      ],
      "source": [
        "D_MODEL = 256\n",
        "NUM_LAYERS = 6\n",
        "NUM_HEADS = 8\n",
        "D_FF = 1024\n",
        "model = build_transformer(src_lang.n_words, tgt_lang.n_words, seq_len, seq_len, D_MODEL, NUM_LAYERS, NUM_HEADS, 0.1, D_FF).to(device)\n",
        "\n",
        "model.load_state_dict(torch.load(\"/content/drive/MyDrive/neural_machine_translation/iter7/be_to_en_seq2seq_iter7.pt\"))"
      ]
    },
    {
      "cell_type": "code",
      "execution_count": null,
      "metadata": {
        "colab": {
          "background_save": true,
          "base_uri": "https://localhost:8080/"
        },
        "id": "Th2SapIidWWN",
        "outputId": "5fd12e05-3ff9-4677-d597-b02221f8dfee"
      },
      "outputs": [
        {
          "name": "stdout",
          "output_type": "stream",
          "text": [
            "Translating 9835 sentences...\n"
          ]
        },
        {
          "name": "stderr",
          "output_type": "stream",
          "text": [
            "100%|██████████| 9835/9835 [1:43:48<00:00,  1.58it/s]\n"
          ]
        }
      ],
      "source": [
        "translated_sents = evaluate(model, src_sents, src_lang, tgt_lang, seq_len, device)"
      ]
    },
    {
      "cell_type": "code",
      "execution_count": null,
      "metadata": {
        "colab": {
          "background_save": true
        },
        "id": "v3bSjrYfdZrs"
      },
      "outputs": [],
      "source": [
        "df = pd.DataFrame({'ID': src_ids, 'Translation': translated_sents})\n",
        "\n",
        "csv_path = \"/content/drive/MyDrive/neural_machine_translation/iter7/bengali.csv\"\n",
        "df.to_csv(csv_path, index=False)"
      ]
    },
    {
      "cell_type": "code",
      "execution_count": null,
      "metadata": {
        "colab": {
          "background_save": true
        },
        "id": "UnAzYQX1deWF"
      },
      "outputs": [],
      "source": [
        "# GUJARATI\n",
        "src_sents, src_ids = test_data(path_to_file, \"English-Gujarati\")\n",
        "src_lang = Language(\"/content/drive/MyDrive/neural_machine_translation/iter5B/spm/gu_spm.model\", lang=\"gu\")"
      ]
    },
    {
      "cell_type": "code",
      "execution_count": null,
      "metadata": {
        "colab": {
          "background_save": true
        },
        "id": "OXYgeW9adlfL",
        "outputId": "1130693f-5486-49ba-a0b5-35e460abfbe7"
      },
      "outputs": [
        {
          "data": {
            "text/plain": [
              "<All keys matched successfully>"
            ]
          },
          "execution_count": 20,
          "metadata": {},
          "output_type": "execute_result"
        }
      ],
      "source": [
        "D_MODEL = 256\n",
        "NUM_LAYERS = 6\n",
        "NUM_HEADS = 8\n",
        "D_FF = 1024\n",
        "model = build_transformer(src_lang.n_words, tgt_lang.n_words, seq_len, seq_len, D_MODEL, NUM_LAYERS, NUM_HEADS, 0.1, D_FF).to(device)\n",
        "\n",
        "model.load_state_dict(torch.load(\"/content/drive/MyDrive/neural_machine_translation/iter7/gu_to_en_seq2seq_iter7.pt\"))"
      ]
    },
    {
      "cell_type": "code",
      "execution_count": null,
      "metadata": {
        "colab": {
          "background_save": true
        },
        "id": "4hFdGXHddo90",
        "outputId": "c507a01d-c818-414b-801a-47a8bf536f03"
      },
      "outputs": [
        {
          "name": "stdout",
          "output_type": "stream",
          "text": [
            "Translating 6783 sentences...\n"
          ]
        },
        {
          "name": "stderr",
          "output_type": "stream",
          "text": [
            "100%|██████████| 6783/6783 [1:15:49<00:00,  1.49it/s]\n"
          ]
        }
      ],
      "source": [
        "translated_sents = evaluate(model, src_sents, src_lang, tgt_lang, seq_len, device)"
      ]
    },
    {
      "cell_type": "code",
      "execution_count": null,
      "metadata": {
        "colab": {
          "background_save": true
        },
        "id": "QLylISQgdqPp"
      },
      "outputs": [],
      "source": [
        "df = pd.DataFrame({'ID': src_ids, 'Translation': translated_sents})\n",
        "\n",
        "csv_path = \"/content/drive/MyDrive/neural_machine_translation/iter7/gujarati.csv\"\n",
        "df.to_csv(csv_path, index=False)"
      ]
    },
    {
      "cell_type": "code",
      "execution_count": null,
      "metadata": {
        "colab": {
          "background_save": true
        },
        "id": "b_tfNJyxdtN4"
      },
      "outputs": [],
      "source": [
        "# KANNADA\n",
        "src_sents, src_ids = test_data(path_to_file, \"English-Kannada\")\n",
        "src_lang = Language(\"/content/drive/MyDrive/neural_machine_translation/iter5B/spm/ka_spm.model\", lang=\"ka\")"
      ]
    },
    {
      "cell_type": "code",
      "execution_count": null,
      "metadata": {
        "colab": {
          "background_save": true
        },
        "id": "FrX_yOHpdydW",
        "outputId": "aaadea04-9fec-4a38-955f-053656be499f"
      },
      "outputs": [
        {
          "data": {
            "text/plain": [
              "<All keys matched successfully>"
            ]
          },
          "execution_count": 24,
          "metadata": {},
          "output_type": "execute_result"
        }
      ],
      "source": [
        "D_MODEL = 256\n",
        "NUM_LAYERS = 6\n",
        "NUM_HEADS = 8\n",
        "D_FF = 1024\n",
        "model = build_transformer(src_lang.n_words, tgt_lang.n_words, seq_len, seq_len, D_MODEL, NUM_LAYERS, NUM_HEADS, 0.1, D_FF).to(device)\n",
        "\n",
        "model.load_state_dict(torch.load(\"/content/drive/MyDrive/neural_machine_translation/iter7/ka_to_en_seq2seq_iter7.pt\"))"
      ]
    },
    {
      "cell_type": "code",
      "execution_count": null,
      "metadata": {
        "id": "CAON-mWrd1Zt"
      },
      "outputs": [],
      "source": [
        "translated_sents = evaluate(model, src_sents, src_lang, tgt_lang, seq_len, device)"
      ]
    },
    {
      "cell_type": "code",
      "execution_count": null,
      "metadata": {
        "id": "paiCjAUrd36S"
      },
      "outputs": [],
      "source": [
        "df = pd.DataFrame({'ID': src_ids, 'Translation': translated_sents})\n",
        "\n",
        "csv_path = \"/content/drive/MyDrive/neural_machine_translation/iter7/kannada.csv\"\n",
        "df.to_csv(csv_path, index=False)"
      ]
    },
    {
      "cell_type": "code",
      "execution_count": null,
      "metadata": {
        "id": "Srs2p9Uqd7pi"
      },
      "outputs": [],
      "source": [
        "# MALAYALAM\n",
        "src_sents, src_ids = test_data(path_to_file, \"English-Malayalam\")\n",
        "src_lang = Language(\"/content/drive/MyDrive/neural_machine_translation/iter5B/spm/ma_spm.model\", lang=\"ma\")"
      ]
    },
    {
      "cell_type": "code",
      "execution_count": null,
      "metadata": {
        "id": "jI4J3-vGeDYy"
      },
      "outputs": [],
      "source": [
        "D_MODEL = 256\n",
        "NUM_LAYERS = 6\n",
        "NUM_HEADS = 8\n",
        "D_FF = 1024\n",
        "model = build_transformer(src_lang.n_words, tgt_lang.n_words, seq_len, seq_len, D_MODEL, NUM_LAYERS, NUM_HEADS, 0.1, D_FF).to(device)\n",
        "\n",
        "model.load_state_dict(torch.load(\"/content/drive/MyDrive/neural_machine_translation/iter7/ma_to_en_seq2seq_iter7.pt\"))"
      ]
    },
    {
      "cell_type": "code",
      "execution_count": null,
      "metadata": {
        "id": "MUaHJ9MjeFnB"
      },
      "outputs": [],
      "source": [
        "translated_sents = evaluate(model, src_sents, src_lang, tgt_lang, seq_len, device)"
      ]
    },
    {
      "cell_type": "code",
      "execution_count": null,
      "metadata": {
        "id": "6L-Q7rGOeHAS"
      },
      "outputs": [],
      "source": [
        "df = pd.DataFrame({'ID': src_ids, 'Translation': translated_sents})\n",
        "\n",
        "csv_path = \"/content/drive/MyDrive/neural_machine_translation/iter7/malayalam.csv\"\n",
        "df.to_csv(csv_path, index=False)"
      ]
    },
    {
      "cell_type": "code",
      "execution_count": null,
      "metadata": {
        "id": "tPLmYKXreKAW"
      },
      "outputs": [],
      "source": [
        "# TAMIL\n",
        "src_sents, src_ids = test_data(path_to_file, \"English-Tamil\")\n",
        "src_lang = Language(\"/content/drive/MyDrive/neural_machine_translation/iter5B/spm/ta_spm.model\", lang=\"ta\")"
      ]
    },
    {
      "cell_type": "code",
      "execution_count": null,
      "metadata": {
        "id": "4w8LkA6XePVN"
      },
      "outputs": [],
      "source": [
        "D_MODEL = 256\n",
        "NUM_LAYERS = 6\n",
        "NUM_HEADS = 8\n",
        "D_FF = 1024\n",
        "model = build_transformer(src_lang.n_words, tgt_lang.n_words, seq_len, seq_len, D_MODEL, NUM_LAYERS, NUM_HEADS, 0.1, D_FF).to(device)\n",
        "\n",
        "model.load_state_dict(torch.load(\"/content/drive/MyDrive/neural_machine_translation/iter7/ta_to_en_seq2seq_iter7.pt\"))"
      ]
    },
    {
      "cell_type": "code",
      "execution_count": null,
      "metadata": {
        "id": "LkeY6gMpeRqM"
      },
      "outputs": [],
      "source": [
        "translated_sents = evaluate(model, src_sents, src_lang, tgt_lang, seq_len, device)"
      ]
    },
    {
      "cell_type": "code",
      "execution_count": null,
      "metadata": {
        "id": "gqa5XPH6eTFY"
      },
      "outputs": [],
      "source": [
        "df = pd.DataFrame({'ID': src_ids, 'Translation': translated_sents})\n",
        "\n",
        "csv_path = \"/content/drive/MyDrive/neural_machine_translation/iter7/tamil.csv\"\n",
        "df.to_csv(csv_path, index=False)"
      ]
    },
    {
      "cell_type": "code",
      "execution_count": null,
      "metadata": {
        "id": "idLhFosVeVRi"
      },
      "outputs": [],
      "source": [
        "# TELGU\n",
        "src_sents, src_ids = test_data(path_to_file, \"English-Telgu\")\n",
        "src_lang = Language(\"/content/drive/MyDrive/neural_machine_translation/iter5B/spm/te_spm.model\", lang=\"te\")"
      ]
    },
    {
      "cell_type": "code",
      "execution_count": null,
      "metadata": {
        "id": "mUefY381ebs8"
      },
      "outputs": [],
      "source": [
        "D_MODEL = 256\n",
        "NUM_LAYERS = 6\n",
        "NUM_HEADS = 8\n",
        "D_FF = 1024\n",
        "model = build_transformer(src_lang.n_words, tgt_lang.n_words, seq_len, seq_len, D_MODEL, NUM_LAYERS, NUM_HEADS, 0.1, D_FF).to(device)\n",
        "\n",
        "model.load_state_dict(torch.load(\"/content/drive/MyDrive/neural_machine_translation/iter7/te_to_en_seq2seq_iter7.pt\"))"
      ]
    },
    {
      "cell_type": "code",
      "execution_count": null,
      "metadata": {
        "id": "RkGiUdIBedsc"
      },
      "outputs": [],
      "source": [
        "translated_sents = evaluate(model, src_sents, src_lang, tgt_lang, seq_len, device)"
      ]
    },
    {
      "cell_type": "code",
      "execution_count": null,
      "metadata": {
        "id": "6VEh_LNmee7-"
      },
      "outputs": [],
      "source": [
        "df = pd.DataFrame({'ID': src_ids, 'Translation': translated_sents})\n",
        "\n",
        "csv_path = \"/content/drive/MyDrive/neural_machine_translation/iter7/telgu.csv\"\n",
        "df.to_csv(csv_path, index=False)"
      ]
    },
    {
      "cell_type": "code",
      "execution_count": null,
      "metadata": {
        "id": "AaDQLjBmeg7j"
      },
      "outputs": [],
      "source": []
    }
  ],
  "metadata": {
    "accelerator": "GPU",
    "colab": {
      "provenance": []
    },
    "kernelspec": {
      "display_name": "Python 3",
      "name": "python3"
    },
    "language_info": {
      "name": "python"
    }
  },
  "nbformat": 4,
  "nbformat_minor": 0
}