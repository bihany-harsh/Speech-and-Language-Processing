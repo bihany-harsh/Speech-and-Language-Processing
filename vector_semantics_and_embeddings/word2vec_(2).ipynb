{
 "cells": [
  {
   "attachments": {},
   "cell_type": "markdown",
   "metadata": {},
   "source": [
    "**USING THE GENSIM LIBRARY TO TRAIN WORD2VEC FEATURE VECTORS**"
   ]
  },
  {
   "cell_type": "code",
   "execution_count": 1,
   "metadata": {},
   "outputs": [],
   "source": [
    "import gensim\n",
    "from nltk.corpus import brown"
   ]
  },
  {
   "cell_type": "code",
   "execution_count": 2,
   "metadata": {},
   "outputs": [],
   "source": [
    "sentences = brown.sents()\n",
    "\n",
    "model = gensim.models.Word2Vec(sentences, min_count=1, vector_size=100, workers=4, window=5)"
   ]
  },
  {
   "cell_type": "code",
   "execution_count": 3,
   "metadata": {},
   "outputs": [],
   "source": [
    "model.save(\"model/brown_word2vec\")"
   ]
  },
  {
   "cell_type": "code",
   "execution_count": 4,
   "metadata": {},
   "outputs": [],
   "source": [
    "model = gensim.models.Word2Vec.load(\"model/brown_word2vec\")"
   ]
  },
  {
   "cell_type": "code",
   "execution_count": 5,
   "metadata": {},
   "outputs": [
    {
     "name": "stdout",
     "output_type": "stream",
     "text": [
      "[('community', 0.9628366827964783), ('political', 0.9542821049690247), ('development', 0.94892817735672), ('policy', 0.9420711398124695), ('general', 0.94094318151474), ('form', 0.9353911876678467), ('value', 0.9348944425582886), ('religious', 0.9342473745346069), ('interest', 0.9315283894538879), ('moral', 0.9306718707084656)]\n"
     ]
    }
   ],
   "source": [
    "print(model.wv.most_similar('human'))"
   ]
  },
  {
   "cell_type": "code",
   "execution_count": 6,
   "metadata": {},
   "outputs": [
    {
     "name": "stdout",
     "output_type": "stream",
     "text": [
      "[('care', 0.9179365634918213), ('work', 0.906072735786438), ('job', 0.905714213848114), ('others', 0.904369056224823), ('trouble', 0.8993988633155823), ('students', 0.8971582055091858), ('lot', 0.8954932689666748), ('landmarks', 0.893583357334137), ('order', 0.8923814296722412), ('themselves', 0.8917840719223022)]\n"
     ]
    }
   ],
   "source": [
    "print(model.wv.most_similar('money'))"
   ]
  },
  {
   "cell_type": "code",
   "execution_count": 7,
   "metadata": {},
   "outputs": [
    {
     "name": "stdout",
     "output_type": "stream",
     "text": [
      "[('Plans', 0.895776093006134), ('locality', 0.8852425813674927), ('reservoir', 0.8766545057296753), ('woods', 0.8765461444854736), ('church', 0.8755216002464294), ('Fifties', 0.8742607235908508), ('stage', 0.8707998991012573), ('town', 0.8690769672393799), ('cafeteria', 0.8684977889060974), ('nation', 0.8684077858924866)]\n"
     ]
    }
   ],
   "source": [
    "print(model.wv.most_similar(positive=['county', 'country'], negative=['resident']))"
   ]
  },
  {
   "cell_type": "code",
   "execution_count": 8,
   "metadata": {},
   "outputs": [
    {
     "name": "stdout",
     "output_type": "stream",
     "text": [
      "cereal\n"
     ]
    }
   ],
   "source": [
    "print(model.wv.doesnt_match(\"breakfast cereal dinner lunch\".split()))"
   ]
  },
  {
   "cell_type": "code",
   "execution_count": 9,
   "metadata": {},
   "outputs": [
    {
     "data": {
      "image/png": "[encoded data removed]",
      "text/plain": [
       "<Figure size 600x600 with 1 Axes>"
      ]
     },
     "metadata": {},
     "output_type": "display_data"
    }
   ],
   "source": [
    "import matplotlib.pyplot as plt\n",
    "from sklearn.decomposition import PCA\n",
    "import numpy as np\n",
    "\n",
    "def display_pca_scatterplot(model, words=None, sample=0):\n",
    "    if words == None:\n",
    "        if sample > 0:\n",
    "            words = np.random.choice(list(model.wv.key_to_index.keys()), sample)\n",
    "        else:\n",
    "            words = [ word for word in model.wv.key_to_index.keys() ]\n",
    "    \n",
    "    word_vectors = np.array([model.wv[w] for w in words])\n",
    "\n",
    "    twodim = PCA().fit_transform(word_vectors)[:,:2]\n",
    "    \n",
    "    plt.figure(figsize=(6,6))\n",
    "    plt.scatter(twodim[:,0], twodim[:,1], edgecolors='k', c='r')\n",
    "    for word, (x,y) in zip(words, twodim):\n",
    "        plt.text(x+0.05, y+0.05, word)\n",
    "\n",
    "display_pca_scatterplot(model, words=[\"United\", \"States\", \"America\", \"pride\", \"National\", \"happy\", \"satisfied\", \"center\", \"county\", \"residents\"], sample=0)"
   ]
  }
 ],
 "metadata": {
  "kernelspec": {
   "display_name": "Python 3",
   "language": "python",
   "name": "python3"
  },
  "language_info": {
   "codemirror_mode": {
    "name": "ipython",
    "version": 3
   },
   "file_extension": ".py",
   "mimetype": "text/x-python",
   "name": "python",
   "nbconvert_exporter": "python",
   "pygments_lexer": "ipython3",
   "version": "3.11.3"
  },
  "orig_nbformat": 4
 },
 "nbformat": 4,
 "nbformat_minor": 2
}
