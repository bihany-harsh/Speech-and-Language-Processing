{
 "cells": [
  {
   "attachments": {},
   "cell_type": "markdown",
   "metadata": {},
   "source": [
    "The following implementation is borrowed from the following blog on StackAbuse: https://stackabuse.com/implementing-word2vec-with-gensim-library-in-python/"
   ]
  },
  {
   "cell_type": "code",
   "execution_count": 1,
   "metadata": {},
   "outputs": [],
   "source": [
    "import bs4 as bs\n",
    "import urllib.request\n",
    "import re\n",
    "import nltk\n",
    "\n",
    "scrapped_data = urllib.request.urlopen('https://en.wikipedia.org/wiki/Artificial_intelligence')\n",
    "article = scrapped_data .read()\n",
    "\n",
    "parsed_article = bs.BeautifulSoup(article,'lxml')\n",
    "\n",
    "paragraphs = parsed_article.find_all('p')\n",
    "\n",
    "article_text = \"\"\n",
    "\n",
    "for p in paragraphs:\n",
    "    article_text += p.text"
   ]
  },
  {
   "cell_type": "code",
   "execution_count": 2,
   "metadata": {},
   "outputs": [],
   "source": [
    "processed_article = article_text.lower()\n",
    "processed_article = re.sub('[^a-zA-Z]', ' ', processed_article )\n",
    "processed_article = re.sub(r'\\s+', ' ', processed_article)\n",
    "\n",
    "# Preparing the dataset\n",
    "all_sentences = nltk.sent_tokenize(processed_article)\n",
    "\n",
    "all_words = [nltk.word_tokenize(sent) for sent in all_sentences]\n",
    "\n",
    "# Removing Stop Words\n",
    "from nltk.corpus import stopwords\n",
    "for i in range(len(all_words)):\n",
    "    all_words[i] = [w for w in all_words[i] if w not in stopwords.words('english')]"
   ]
  },
  {
   "cell_type": "code",
   "execution_count": 4,
   "metadata": {},
   "outputs": [
    {
     "name": "stdout",
     "output_type": "stream",
     "text": [
      "['ai', 'intelligence', 'artificial', 'learning', 'human', 'machine', 'problems', 'many', 'networks', 'research', 'used', 'search', 'knowledge', 'neural', 'use', 'also', 'symbolic', 'may', 'researchers', 'computer', 'general', 'systems', 'field', 'machines', 'logic', 'problem', 'reasoning', 'data', 'mind', 'would', 'algorithms', 'solve', 'tools', 'intelligent', 'applications', 'could', 'humans', 'since', 'system', 'include', 'computing', 'specific', 'example', 'optimization', 'two', 'developed', 'ability', 'goals', 'one', 'decision', 'number', 'mathematical', 'information', 'however', 'approaches', 'including', 'program', 'based', 'recognition', 'theory', 'world', 'risk', 'well', 'agent', 'difficult', 'neurons', 'term', 'u', 'using', 'level', 'algorithm', 'deep', 'others', 'even', 'first', 'inputs', 'form', 'make', 'known', 'goal', 'input', 'sub', 'language', 'fiction', 'whether', 'several', 'widely', 'processing', 'people', 'approach', 'like', 'described', 'related', 'formal', 'methods', 'robotics', 'behavior', 'solutions', 'increase', 'techniques', 'turing', 'objects', 'successful', 'rather', 'called', 'particular', 'question', 'perception', 'model', 'time', 'issue', 'tasks', 'statistical', 'long', 'know', 'brain', 'classifiers', 'solving', 'popular', 'become', 'large', 'often', 'software', 'inspired', 'future', 'commonsense', 'argues', 'things', 'representation', 'facts', 'programs', 'natural', 'content', 'examples', 'logics', 'processes', 'beings', 'laws', 'new', 'philosophy', 'science', 'google', 'patents', 'patent', 'bias', 'works', 'vision', 'us', 'considered', 'spam', 'rights', 'computational', 'layers', 'classification', 'outputs', 'calculus', 'ethics', 'understanding', 'planning', 'creating', 'economics', 'making', 'application', 'possible', 'argue', 'among', 'go', 'r', 'thus', 'easy', 'simple', 'modern', 'capable', 'process', 'began', 'simulate', 'jobs', 'g', 'became', 'soft', 'part', 'learn', 'technology', 'far', 'robots', 'step', 'speech', 'allow', 'states', 'space', 'published', 'technique', 'advanced', 'russell', 'equity', 'lead', 'projects', 'reduced', 'common', 'multi', 'true', 'choices', 'solution', 'heuristics', 'generation', 'guess', 'size', 'antiquity', 'issues', 'market', 'early', 'especially', 'able', 'forms', 'ethical', 'simulated', 'designed', 'accuracy', 'patterns', 'much', 'achieve', 'experience', 'marvin', 'minsky', 'classify', 'function', 'viewed', 'events', 'categories', 'classifier', 'text', 'domains', 'person', 'due', 'similar', 'set', 'real', 'work', 'sufficiently', 'computers', 'digital', 'e', 'analyze', 'logical', 'self', 'k', 'analysis', 'included', 'uses', 'traffic', 'defined', 'created', 'network', 'terms', 'high', 'training', 'founder', 'highly', 'performance', 'feel', 'smart', 'internet', 'fields', 'layer', 'different', 'industry', 'funding', 'introduced', 'previous', 'followed', 'together', 'neuron', 'made', 'various', 'microsoft', 'percent', 'definition', 'still', 'class', 'years', 'identify', 'properties', 'relations', 'test', 'raised', 'ontology', 'champion', 'playing', 'questions', 'show', 'idea', 'animal', 'concepts', 'games', 'agents', 'effect', 'ontologies', 'st', 'requires', 'might', 'prevent', 'improve', 'simon', 'hard', 'philosophical', 'discovery', 'life', 'express', 'statements', 'breadth', 'connectionist', 'default', 'facebook', 'strategies', 'typically', 'superintelligent', 'century', 'need', 'area', 'without', 'name', 'largest', 'morality', 'produce', 'narrow', 'finding', 'late', 'evolutionary', 'ensure', 'fuzzy', 'thinking', 'services', 'friendly', 'filed', 'scientific', 'word', 'success', 'engineering', 'public', 'commercial', 'pattern', 'identified', 'winter', 'longer', 'demonstrated', 'asimov', 'experts', 'governments', 'defendants', 'rarely', 'algorithmic', 'founded', 'decisions', 'middle', 'culture', 'view', 'academic', 'potential', 'web', 'concern', 'legal', 'within', 'risks', 'total', 'reported', 'companies', 'failed', 'increased', 'stephen', 'benchmarks', 'agree', 'translation', 'norvig', 'emerging', 'better', 'areas', 'regression', 'computation', 'led', 'directly', 'central', 'likely', 'steps', 'subjective', 'philosophers', 'searching', 'tend', 'another', 'capabilities', 'symbol', 'statistics', 'activation', 'position', 'straightforward', 'matching', 'match', 'proposed', 'game', 'devices', 'development', 'reach', 'point', 'chess', 'path', 'moravec', 'driving', 'study', 'determine', 'humanity', 'move', 'philosopher', 'care', 'interaction', 'makes', 'probability', 'principles', 'sources', 'programming', 'amazon', 'swarm', 'critics', 'begin', 'truth', 'around', 'higher', 'functions', 'image', 'recommendation', 'superintelligence', 'relationship', 'require', 'improved', 'reason', 'n', 'bayesian', 'classifies', 'trained', 'genetic', 'design', 'considers', 'gradient', 'sense', 'required', 'consider', 'generally', 'way', 'competing', 'difficulty', 'technological', 'inferring', 'criticism', 'arguments', 'recognize', 'simulating', 'later', 'remaining', 'explored', 'c', 'displayed', 'beneficial', 'done', 'art', 'british', 'scientists', 'existential', 'revived', 'precisely', 'cars', 'suggested', 'upon', 'assumption', 'next', 'karel', 'appeared', 'netflix', 'siri', 'act', 'deduction', 'period', 'cybernetics', 'manyika', 'james', 'connections', 'frequently', 'phenomenon', 'dominated', 'emerged', 'intellectual', 'ways', 'sought', 'second', 'gofai', 'youtube', 'create', 'proved', 'herbert', 'helping', 'proponents', 'newell', 'decades', 'alexa', 'substantially', 'frankenstein', 'storytelling', 'writing', 'agreed', 'languages', 'range', 'twenty', 'wide', 'mary', 'predicted', 'eventually', 'shelley', 'established', 'alan', 'apek', 'funded', 'discussed', 'theorems', 'algebra', 'engines', 'waves', 'databases', 'produced', 'prominence', 'gained', 'experienced', 'textbooks', 'billion', 'thousands', 'jeopardy', 'beat', 'blue', 'policy', 'medical', 'deepfakes', 'gpt', 'becoming', 'face', 'apple', 'autonomous', 'mainstream', 'includes', 'hardware', 'ibm', 'superhuman', 'back', 'control', 'refer', 'inventions', 'four', 'papers', 'technologies', 'cities', 'installed', 'deepmind', 'professor', 'security', 'inappropriate', 'images', 'detector', 'hours', 'cases', 'rnn', 'wrote', 'classified', 'scalability', 'bayes', 'naive', 'svm', 'neighbor', 'nearest', 'observation', 'perform', 'certain', 'observations', 'therefore', 'actions', 'controllers', 'diamond', 'depends', 'extremely', 'reduce', 'signal', 'convolutional', 'important', 'relevant', 'perceptrons', 'short', 'recurrent', 'feedforward', 'weighted', 'competitive', 'descent', 'spectrum', 'continuous', 'wire', 'fire', 'personal', 'thinks', 'japan', 'automation', 'surveillance', 'provides', 'taking', 'worth', 'collar', 'white', 'benefit', 'countries', 'economists', 'transhumanism', 'singularity', 'institute', 'centuries', 'robot', 'misinformation', 'researching', 'suffer', 'copyright', 'series', 'regulation', 'three', 'becomes', 'developing', 'jurisdictions', 'said', 'unfair', 'prominent', 'musk', 'shut', 'resources', 'hawking', 'compas', 'hypothetical', 'searle', 'machinery', 'john', 'history', 'adopted', 'discussion', 'defines', 'simulation', 'mccarthy', 'pigeons', 'physical', 'exactly', 'define', 'must', 'matter', 'observe', 'measures', 'conscious', 'necessary', 'body', 'stuart', 'computationalism', 'red', 'learned', 'explain', 'named', 'peter', 'consciousness', 'presented', 'provably', 'neats', 'attempts', 'impossible', 'away', 'mistakes', 'types', 'divided', 'simplest', 'intelligently', 'knows', 'average', 'domain', 'attempt', 'interpret', 'exists', 'fast', 'dick', 'exponentially', 'explosion', 'incomplete', 'uncertain', 'deductions', 'puzzles', 'represented', 'represent', 'expect', 'j', 'change', 'belongs', 'something', 'main', 'supervised', 'finds', 'concept', 'assume', 'fundamental', 'support', 'retrieval', 'enormous', 'changing', 'told', 'received', 'traits', 'valuable', 'interest', 'hungry', 'access', 'although', 'mathematics', 'verifiable', 'david', 'survive', 'according', 'focused', 'brooks', 'rodney', 'lisp', 'beginning', 'fifth', 'started', 'usage', 'answer', 'agi', 'think', 'concludes', 'less', 'lanier', 'scientist', 'institutions', 'involves', 'attributed', 'current', 'fully', 'concerned', 'numerous', 'incorporated', 'survey', 'learners', 'good', 'responses', 'means', 'supply', 'tree', 'result', 'sufficient', 'searches', 'moving', 'target', 'blind', 'find', 'inference', 'critical', 'features', 'believe', 'hopes', 'came', 'random', 'ones', 'belief', 'measure', 'models', 'markov', 'filtering', 'dynamic', 'devised', 'situation', 'landscape', 'handle', 'degree', 'order', 'ant', 'guesses', 'top', 'architecture', 'cognitive', 'individual', 'understand', 'useful', 'structure', 'translate', 'answering', 'texts', 'powerful', 'allows', 'hans', 'nlp', 'sample', 'complexity', 'assess', 'applied', 'strategy', 'occurrence', 'appears', 'sensors', 'signals', 'facial', 'object', 'visual', 'affective', 'virtual', 'assistants', 'programmed', 'otherwise', 'users', 'existing', 'actually', 'successes', 'sentiment', 'description']\n"
     ]
    }
   ],
   "source": [
    "from gensim.models import Word2Vec\n",
    "\n",
    "word2vec = Word2Vec(all_words, min_count=2)\n",
    "\n",
    "vocabulary = word2vec.wv.index_to_key\n",
    "print(vocabulary)"
   ]
  },
  {
   "cell_type": "code",
   "execution_count": 5,
   "metadata": {},
   "outputs": [],
   "source": [
    "v1 = word2vec.wv['artificial']"
   ]
  },
  {
   "cell_type": "code",
   "execution_count": 8,
   "metadata": {},
   "outputs": [
    {
     "data": {
      "text/plain": [
       "(100,)"
      ]
     },
     "execution_count": 8,
     "metadata": {},
     "output_type": "execute_result"
    }
   ],
   "source": [
    "v1.shape"
   ]
  },
  {
   "cell_type": "code",
   "execution_count": 9,
   "metadata": {},
   "outputs": [
    {
     "name": "stdout",
     "output_type": "stream",
     "text": [
      "[('definition', 0.3976132571697235), ('ai', 0.3833257853984833), ('researchers', 0.3393787741661072), ('behavior', 0.33891043066978455), ('us', 0.33040851354599), ('machines', 0.32977166771888733), ('field', 0.32357528805732727), ('also', 0.3113861382007599), ('data', 0.30812421441078186), ('difficult', 0.30277594923973083)]\n"
     ]
    }
   ],
   "source": [
    "sim_words = word2vec.wv.most_similar('intelligence')\n",
    "print(sim_words)"
   ]
  },
  {
   "cell_type": "code",
   "execution_count": 17,
   "metadata": {},
   "outputs": [
    {
     "data": {
      "image/png": "[encoded data removed]",
      "text/plain": [
       "<Figure size 600x600 with 1 Axes>"
      ]
     },
     "metadata": {},
     "output_type": "display_data"
    }
   ],
   "source": [
    "import numpy as np\n",
    "from sklearn.decomposition import PCA\n",
    "import matplotlib.pyplot as plt\n",
    "\n",
    "def display_pca_scatterplot(model, words=None):\n",
    "    if words == None:\n",
    "        words = [word for word in model.wv.index_to_key]  # get all words\n",
    "\n",
    "    word_vectors = [model.wv[word] for word in words]  # get vectors for specified words\n",
    "\n",
    "    # perform PCA\n",
    "    twodim = PCA().fit_transform(word_vectors)[:,:2]\n",
    "    \n",
    "    # create a new matplotlib figure\n",
    "    plt.figure(figsize=(6,6))\n",
    "    \n",
    "    # Manually set the plot area to be slightly larger than the range of the data\n",
    "    margin = 0.1  # small margin\n",
    "    min_x = min(twodim[:, 0]) - margin\n",
    "    max_x = max(twodim[:, 0]) + margin\n",
    "    min_y = min(twodim[:, 1]) - margin\n",
    "    max_y = max(twodim[:, 1]) + margin\n",
    "    plt.xlim(min_x, max_x)\n",
    "    plt.ylim(min_y, max_y)\n",
    "    \n",
    "    plt.scatter(twodim[:,0], twodim[:,1], edgecolors='k', c='r')\n",
    "    for word, (x,y) in zip(words, twodim):\n",
    "        plt.text(x, y, word, fontsize=9)\n",
    "    plt.show()\n",
    "\n",
    "\n",
    "        \n",
    "display_pca_scatterplot(word2vec, words=['ai', 'intelligence', 'smart', 'humans'])"
   ]
  },
  {
   "cell_type": "code",
   "execution_count": null,
   "metadata": {},
   "outputs": [],
   "source": []
  }
 ],
 "metadata": {
  "kernelspec": {
   "display_name": "Python 3",
   "language": "python",
   "name": "python3"
  },
  "language_info": {
   "codemirror_mode": {
    "name": "ipython",
    "version": 3
   },
   "file_extension": ".py",
   "mimetype": "text/x-python",
   "name": "python",
   "nbconvert_exporter": "python",
   "pygments_lexer": "ipython3",
   "version": "3.11.3"
  },
  "orig_nbformat": 4
 },
 "nbformat": 4,
 "nbformat_minor": 2
}
